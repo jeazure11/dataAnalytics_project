{
 "cells": [
  {
   "cell_type": "code",
   "execution_count": 4,
   "id": "eab50f9a",
   "metadata": {},
   "outputs": [
    {
     "data": {
      "text/html": [
       "<div>\n",
       "<style scoped>\n",
       "    .dataframe tbody tr th:only-of-type {\n",
       "        vertical-align: middle;\n",
       "    }\n",
       "\n",
       "    .dataframe tbody tr th {\n",
       "        vertical-align: top;\n",
       "    }\n",
       "\n",
       "    .dataframe thead th {\n",
       "        text-align: right;\n",
       "    }\n",
       "</style>\n",
       "<table border=\"1\" class=\"dataframe\">\n",
       "  <thead>\n",
       "    <tr style=\"text-align: right;\">\n",
       "      <th></th>\n",
       "      <th>발생월</th>\n",
       "      <th>발생일</th>\n",
       "      <th>사고유형대분류</th>\n",
       "      <th>사고유형중분류</th>\n",
       "      <th>사고유형</th>\n",
       "      <th>사고건수</th>\n",
       "      <th>사망자수</th>\n",
       "      <th>중상자수</th>\n",
       "      <th>경상자수</th>\n",
       "      <th>부상신고자수</th>\n",
       "    </tr>\n",
       "  </thead>\n",
       "  <tbody>\n",
       "    <tr>\n",
       "      <th>0</th>\n",
       "      <td>1</td>\n",
       "      <td>1</td>\n",
       "      <td>차대사람</td>\n",
       "      <td>횡단중</td>\n",
       "      <td>횡단중</td>\n",
       "      <td>11</td>\n",
       "      <td>2</td>\n",
       "      <td>3</td>\n",
       "      <td>6</td>\n",
       "      <td>0</td>\n",
       "    </tr>\n",
       "    <tr>\n",
       "      <th>1</th>\n",
       "      <td>1</td>\n",
       "      <td>1</td>\n",
       "      <td>차대사람</td>\n",
       "      <td>차도통행중</td>\n",
       "      <td>차도통행중</td>\n",
       "      <td>2</td>\n",
       "      <td>0</td>\n",
       "      <td>0</td>\n",
       "      <td>2</td>\n",
       "      <td>0</td>\n",
       "    </tr>\n",
       "    <tr>\n",
       "      <th>2</th>\n",
       "      <td>1</td>\n",
       "      <td>1</td>\n",
       "      <td>차대사람</td>\n",
       "      <td>길가장자리구역통행중</td>\n",
       "      <td>길가장자리구역통행중</td>\n",
       "      <td>1</td>\n",
       "      <td>0</td>\n",
       "      <td>0</td>\n",
       "      <td>1</td>\n",
       "      <td>0</td>\n",
       "    </tr>\n",
       "    <tr>\n",
       "      <th>3</th>\n",
       "      <td>1</td>\n",
       "      <td>1</td>\n",
       "      <td>차대사람</td>\n",
       "      <td>보도통행중</td>\n",
       "      <td>보도통행중</td>\n",
       "      <td>4</td>\n",
       "      <td>0</td>\n",
       "      <td>1</td>\n",
       "      <td>3</td>\n",
       "      <td>0</td>\n",
       "    </tr>\n",
       "    <tr>\n",
       "      <th>4</th>\n",
       "      <td>1</td>\n",
       "      <td>1</td>\n",
       "      <td>차대사람</td>\n",
       "      <td>기타</td>\n",
       "      <td>기타</td>\n",
       "      <td>14</td>\n",
       "      <td>2</td>\n",
       "      <td>4</td>\n",
       "      <td>9</td>\n",
       "      <td>0</td>\n",
       "    </tr>\n",
       "    <tr>\n",
       "      <th>...</th>\n",
       "      <td>...</td>\n",
       "      <td>...</td>\n",
       "      <td>...</td>\n",
       "      <td>...</td>\n",
       "      <td>...</td>\n",
       "      <td>...</td>\n",
       "      <td>...</td>\n",
       "      <td>...</td>\n",
       "      <td>...</td>\n",
       "      <td>...</td>\n",
       "    </tr>\n",
       "    <tr>\n",
       "      <th>5220</th>\n",
       "      <td>12</td>\n",
       "      <td>31</td>\n",
       "      <td>차대차</td>\n",
       "      <td>추돌</td>\n",
       "      <td>추돌</td>\n",
       "      <td>130</td>\n",
       "      <td>1</td>\n",
       "      <td>24</td>\n",
       "      <td>209</td>\n",
       "      <td>19</td>\n",
       "    </tr>\n",
       "    <tr>\n",
       "      <th>5221</th>\n",
       "      <td>12</td>\n",
       "      <td>31</td>\n",
       "      <td>차대차</td>\n",
       "      <td>기타</td>\n",
       "      <td>기타</td>\n",
       "      <td>141</td>\n",
       "      <td>1</td>\n",
       "      <td>41</td>\n",
       "      <td>175</td>\n",
       "      <td>14</td>\n",
       "    </tr>\n",
       "    <tr>\n",
       "      <th>5222</th>\n",
       "      <td>12</td>\n",
       "      <td>31</td>\n",
       "      <td>차량단독</td>\n",
       "      <td>전복</td>\n",
       "      <td>전복</td>\n",
       "      <td>1</td>\n",
       "      <td>1</td>\n",
       "      <td>0</td>\n",
       "      <td>0</td>\n",
       "      <td>0</td>\n",
       "    </tr>\n",
       "    <tr>\n",
       "      <th>5223</th>\n",
       "      <td>12</td>\n",
       "      <td>31</td>\n",
       "      <td>차량단독</td>\n",
       "      <td>공작물충돌</td>\n",
       "      <td>공작물충돌</td>\n",
       "      <td>3</td>\n",
       "      <td>0</td>\n",
       "      <td>0</td>\n",
       "      <td>2</td>\n",
       "      <td>1</td>\n",
       "    </tr>\n",
       "    <tr>\n",
       "      <th>5224</th>\n",
       "      <td>12</td>\n",
       "      <td>31</td>\n",
       "      <td>차량단독</td>\n",
       "      <td>기타</td>\n",
       "      <td>기타</td>\n",
       "      <td>3</td>\n",
       "      <td>0</td>\n",
       "      <td>0</td>\n",
       "      <td>2</td>\n",
       "      <td>1</td>\n",
       "    </tr>\n",
       "  </tbody>\n",
       "</table>\n",
       "<p>5225 rows × 10 columns</p>\n",
       "</div>"
      ],
      "text/plain": [
       "      발생월  발생일 사고유형대분류     사고유형중분류        사고유형  사고건수  사망자수  중상자수  경상자수  부상신고자수\n",
       "0       1    1    차대사람         횡단중         횡단중    11     2     3     6       0\n",
       "1       1    1    차대사람       차도통행중       차도통행중     2     0     0     2       0\n",
       "2       1    1    차대사람  길가장자리구역통행중  길가장자리구역통행중     1     0     0     1       0\n",
       "3       1    1    차대사람       보도통행중       보도통행중     4     0     1     3       0\n",
       "4       1    1    차대사람          기타          기타    14     2     4     9       0\n",
       "...   ...  ...     ...         ...         ...   ...   ...   ...   ...     ...\n",
       "5220   12   31     차대차          추돌          추돌   130     1    24   209      19\n",
       "5221   12   31     차대차          기타          기타   141     1    41   175      14\n",
       "5222   12   31    차량단독          전복          전복     1     1     0     0       0\n",
       "5223   12   31    차량단독       공작물충돌       공작물충돌     3     0     0     2       1\n",
       "5224   12   31    차량단독          기타          기타     3     0     0     2       1\n",
       "\n",
       "[5225 rows x 10 columns]"
      ]
     },
     "execution_count": 4,
     "metadata": {},
     "output_type": "execute_result"
    }
   ],
   "source": [
    "import pandas as pd\n",
    "\n",
    "csv_data = pd.read_csv('traffic_accident.csv',encoding='utf-8')\n",
    "\n",
    "csv_spring= csv_data[(csv_data.발생월>2) & (csv_data.발생월<6)] #봄에 발생한 교통사고에 대한 모든 데이터\n",
    "csv_sprAcc = csv_spring[['사고건수']]  #봄에 발생한 교통사고 사고건수만 추출\n",
    "csv_summer= csv_data[(csv_data.발생월>5) & (csv_data.발생월<9)] #여름에 발생한 교통사고에 대한 모든 데이터\n",
    "csv_sumAcc = csv_summer[['사고건수']]  #여름에 발생한 교통사고 사고건수만 추출\n",
    "csv_fall= csv_data[(csv_data.발생월>8) & (csv_data.발생월<12)] #가을에 발생한 교통사고에 대한 모든 데이터\n",
    "csv_fallAcc = csv_fall[['사고건수']] #가을에 발생한 교통사고 사고건수만 추출\n",
    "csv_winter= csv_data[(csv_data.발생월>11) | (csv_data.발생월<3)] #겨울에 발생한 교통사고에 대한 모든 데이터\n",
    "csv_winAcc = csv_winter[['사고건수']] #겨울에 발생한 교통사고 사고건수만 추출"
   ]
  },
  {
   "cell_type": "code",
   "execution_count": 30,
   "id": "ca376b86",
   "metadata": {},
   "outputs": [
    {
     "data": {
      "text/plain": [
       "array([46354], dtype=int64)"
      ]
     },
     "execution_count": 30,
     "metadata": {},
     "output_type": "execute_result"
    }
   ],
   "source": [
    "import numpy as np\n",
    "\n",
    "sprSum = csv_sprAcc[['사고건수']].sum()\n",
    "sumSum = csv_summer[['사고건수']].sum()\n",
    "fallSum = csv_fallAcc[['사고건수']].sum()\n",
    "winSum = csv_winAcc[['사고건수']].sum()"
   ]
  },
  {
   "cell_type": "code",
   "execution_count": 62,
   "id": "c23097a3",
   "metadata": {},
   "outputs": [
    {
     "data": {
      "text/plain": [
       "array([51381, 51987, 53408, 46354], dtype=int64)"
      ]
     },
     "execution_count": 62,
     "metadata": {},
     "output_type": "execute_result"
    }
   ],
   "source": [
    "sumAcc = np.array([sprSum,sumSum,fallSum,winSum])\n",
    "sumAcc = sumAcc.ravel() #다차원 배열 -> 1차원 배열 전환"
   ]
  },
  {
   "cell_type": "code",
   "execution_count": 41,
   "id": "607ac02c",
   "metadata": {},
   "outputs": [
    {
     "data": {
      "image/png": "[encoded data removed]",
      "text/plain": [
       "<Figure size 432x288 with 1 Axes>"
      ]
     },
     "metadata": {
      "needs_background": "light"
     },
     "output_type": "display_data"
    }
   ],
   "source": [
    "import matplotlib.pyplot as plt\n",
    "season = ['spring','summer','fall','winter'] #계절 배열\n",
    "index = np.arange(len(season)) #가로축(계절) 항목 개수\n",
    "\n",
    "seaBar = plt.bar(index,sumAcc,width=0.4,color = 'pink')\n",
    "plt.title(\"Seasonal accidents\",fontsize=15)\n",
    "plt.xlabel('Season',fontsize=13)\n",
    "plt.xticks(index,season,fontsize=12)\n",
    "\n",
    "#숫자 넣는 부분\n",
    "for i,j in enumerate(seaBar):\n",
    "    plt.text(i,j.get_height(),sumAcc[i], horizontalalignment= 'center',verticalalignment = 'bottom')\n",
    "plt.show()\n"
   ]
  },
  {
   "cell_type": "code",
   "execution_count": 45,
   "id": "688d1e3f",
   "metadata": {},
   "outputs": [],
   "source": [
    "spr_cp = csv_spring[csv_spring.사고유형대분류 == '차대사람'] #봄 - '차 대 사람' 모든 데이터\n",
    "spr_cc = csv_spring[csv_spring.사고유형대분류 == '차대차']   #봄 - '차 대 차' 모든 데이터\n",
    "spr_co = csv_spring[csv_spring.사고유형대분류 == '차량단독'] #봄 - '차 단독' 모든 데이터\n",
    "\n",
    "sum_cp = csv_summer[csv_summer.사고유형대분류 == '차대사람'] #여름 - '차 대 사람' 모든 데이터\n",
    "sum_cc = csv_summer[csv_summer.사고유형대분류 == '차대차']   #여름 - '차 대 차' 모든 데이터\n",
    "sum_co = csv_summer[csv_summer.사고유형대분류 == '차량단독'] #여름 - '차 단독' 모든 데이터\n",
    "\n",
    "fall_cp = csv_fall[csv_fall.사고유형대분류 == '차대사람']  #가을 - '차 대 사람' 모든 데이터\n",
    "fall_cc = csv_fall[csv_fall.사고유형대분류 == '차대차']    #가을 - '차 대 차' 모든 데이터\n",
    "fall_co = csv_fall[csv_fall.사고유형대분류 == '차량단독']  #가을 - '차 단독' 모든 데이터\n",
    "\n",
    "win_cp = csv_winter[csv_winter.사고유형대분류 == '차대사람']  #겨울 - '차 대 사람' 모든 데이터\n",
    "win_cc = csv_winter[csv_winter.사고유형대분류 == '차대차']    #겨울 - '차 대 차' 모든 데이터\n",
    "win_co = csv_winter[csv_winter.사고유형대분류 == '차량단독']  #겨울 - '차 단독' 모든 데이터"
   ]
  },
  {
   "cell_type": "code",
   "execution_count": 46,
   "id": "64853a7d",
   "metadata": {},
   "outputs": [],
   "source": [
    "spr_cp_num = spr_cp[['사고건수']] #봄 - '차 대 사람' 사고건수 데이터\n",
    "spr_cc_num = spr_cc[['사고건수']] #봄 - '차 대 차' 사고건수 데이터\n",
    "spr_co_num = spr_co[['사고건수']] #봄 - '차 단독' 사고건수 데이터\n",
    "\n",
    "sum_cp_num = sum_cp[['사고건수']] #여름 - '차 대 사람' 사고건수 데이터\n",
    "sum_cc_num = sum_cc[['사고건수']] #여름 - '차 대 차' 사고건수 데이터\n",
    "sum_co_num = sum_co[['사고건수']] #여름 - '차 단독' 사고건수 데이터\n",
    "\n",
    "fall_cp_num = fall_cp[['사고건수']] #가을 - '차 대 사람' 사고건수 데이터\n",
    "fall_cc_num = fall_cc[['사고건수']] #가을 - '차 대 차' 사고건수 데이터\n",
    "fall_co_num = fall_co[['사고건수']] #가을 - '차 단독' 사고건수 데이터\n",
    "\n",
    "win_cp_num = win_cp[['사고건수']] #겨울 - '차 대 사람' 사고건수 데이터\n",
    "win_cc_num = win_cc[['사고건수']] #겨울 - '차 대 차' 사고건수 데이터\n",
    "win_co_num = win_co[['사고건수']] #겨울 - '차 단독' 사고건수 데이터"
   ]
  },
  {
   "cell_type": "code",
   "execution_count": 52,
   "id": "89e26cbb",
   "metadata": {},
   "outputs": [
    {
     "data": {
      "text/plain": [
       "array([9124, 8341, 9692, 8112], dtype=int64)"
      ]
     },
     "execution_count": 52,
     "metadata": {},
     "output_type": "execute_result"
    }
   ],
   "source": [
    "#계절별 '차 대 사람' 사고건수 총 합\n",
    "spr_cp_sum = spr_cp_num[['사고건수']].sum()\n",
    "sum_cp_sum = sum_cp_num[['사고건수']].sum()\n",
    "fall_cp_sum = fall_cp_num[['사고건수']].sum()\n",
    "win_cp_sum = win_cp_num[['사고건수']].sum()\n",
    "cnp = np.array([spr_cp_sum,sum_cp_sum,fall_cp_sum,win_cp_sum])\n",
    "cnp = cnp.ravel()"
   ]
  },
  {
   "cell_type": "code",
   "execution_count": 56,
   "id": "c2ae11c9",
   "metadata": {},
   "outputs": [
    {
     "data": {
      "image/png": "[encoded data removed]",
      "text/plain": [
       "<Figure size 432x288 with 1 Axes>"
      ]
     },
     "metadata": {
      "needs_background": "light"
     },
     "output_type": "display_data"
    }
   ],
   "source": [
    "##계절별 '차 대 사람' 사고건수 그래프\n",
    "import matplotlib.pyplot as plt\n",
    "season = ['spring','summer','fall','winter'] #계절 배열\n",
    "index = np.arange(len(season)) #가로축(계절) 항목 개수\n",
    "\n",
    "seaBar = plt.bar(index,cnp,width=0.4,color = 'skyblue')\n",
    "plt.title(\"Number of 'People-Car' Accidents\",fontsize=15)\n",
    "plt.xlabel('Season',fontsize=13)\n",
    "plt.xticks(index,season,fontsize=12)\n",
    "\n",
    "#숫자 넣는 부분\n",
    "for i,j in enumerate(seaBar):\n",
    "    plt.text(i,j.get_height(),cnp[i], horizontalalignment= 'center',verticalalignment = 'bottom')\n",
    "plt.show()"
   ]
  },
  {
   "cell_type": "code",
   "execution_count": 54,
   "id": "e23b6a4d",
   "metadata": {},
   "outputs": [],
   "source": [
    "#계절별 차 대 차 사고건수\n",
    "spr_cc_sum = spr_cc_num[['사고건수']].sum()\n",
    "sum_cc_sum = sum_cc_num[['사고건수']].sum()\n",
    "fall_cc_sum = fall_cc_num[['사고건수']].sum()\n",
    "win_cc_sum = win_cc_num[['사고건수']].sum()\n",
    "cnc = np.array([spr_cc_sum,sum_cc_sum,fall_cc_sum,win_cc_sum])\n",
    "cnc = cnc.ravel()"
   ]
  },
  {
   "cell_type": "code",
   "execution_count": 57,
   "id": "295cc0ee",
   "metadata": {},
   "outputs": [
    {
     "data": {
      "image/png": "[encoded data removed]",
      "text/plain": [
       "<Figure size 432x288 with 1 Axes>"
      ]
     },
     "metadata": {
      "needs_background": "light"
     },
     "output_type": "display_data"
    }
   ],
   "source": [
    "##계절별 '차 대 차' 사고건수 그래프\n",
    "import matplotlib.pyplot as plt\n",
    "season = ['spring','summer','fall','winter'] #계절 배열\n",
    "index = np.arange(len(season)) #가로축(계절) 항목 개수\n",
    "\n",
    "seaBar = plt.bar(index,cnp,width=0.4,color = 'yellow')\n",
    "plt.title(\"Number of 'Car-Car' Accidents\",fontsize=15)\n",
    "plt.xlabel('Season',fontsize=13)\n",
    "plt.xticks(index,season,fontsize=12)\n",
    "\n",
    "#숫자 넣는 부분\n",
    "for i,j in enumerate(seaBar):\n",
    "    plt.text(i,j.get_height(),cnc[i], horizontalalignment= 'center',verticalalignment = 'bottom')\n",
    "plt.show()"
   ]
  },
  {
   "cell_type": "code",
   "execution_count": 58,
   "id": "bc037f2e",
   "metadata": {},
   "outputs": [],
   "source": [
    "#계절별 차 단독 사고건수\n",
    "spr_co_sum = spr_co_num[['사고건수']].sum()\n",
    "sum_co_sum = sum_co_num[['사고건수']].sum()\n",
    "fall_co_sum = fall_co_num[['사고건수']].sum()\n",
    "win_co_sum = win_co_num[['사고건수']].sum()\n",
    "caronly = np.array([spr_co_sum,sum_co_sum,fall_co_sum,win_co_sum])\n",
    "caronly = caronly.ravel()"
   ]
  },
  {
   "cell_type": "code",
   "execution_count": 60,
   "id": "8cf60907",
   "metadata": {},
   "outputs": [
    {
     "data": {
      "image/png": "[encoded data removed]",
      "text/plain": [
       "<Figure size 432x288 with 1 Axes>"
      ]
     },
     "metadata": {
      "needs_background": "light"
     },
     "output_type": "display_data"
    }
   ],
   "source": [
    "##계절별 '차 단독' 사고건수 그래프\n",
    "import matplotlib.pyplot as plt\n",
    "season = ['spring','summer','fall','winter'] #계절 배열\n",
    "index = np.arange(len(season)) #가로축(계절) 항목 개수\n",
    "\n",
    "seaBar = plt.bar(index,cnp,width=0.4,color = 'lightgreen')\n",
    "plt.title(\"Number of 'Car Only' Accidents\",fontsize=15)\n",
    "plt.xlabel('Season',fontsize=13)\n",
    "plt.xticks(index,season,fontsize=12)\n",
    "\n",
    "#숫자 넣는 부분\n",
    "for i,j in enumerate(seaBar):\n",
    "    plt.text(i,j.get_height(),caronly[i], horizontalalignment= 'center',verticalalignment = 'bottom')\n",
    "plt.show()"
   ]
  },
  {
   "cell_type": "code",
   "execution_count": null,
   "id": "d4c2a829",
   "metadata": {},
   "outputs": [],
   "source": []
  }
 ],
 "metadata": {
  "kernelspec": {
   "display_name": "Python 3",
   "language": "python",
   "name": "python3"
  },
  "language_info": {
   "codemirror_mode": {
    "name": "ipython",
    "version": 3
   },
   "file_extension": ".py",
   "mimetype": "text/x-python",
   "name": "python",
   "nbconvert_exporter": "python",
   "pygments_lexer": "ipython3",
   "version": "3.8.8"
  }
 },
 "nbformat": 4,
 "nbformat_minor": 5
}
